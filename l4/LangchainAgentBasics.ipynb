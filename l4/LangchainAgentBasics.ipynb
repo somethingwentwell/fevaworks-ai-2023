{
 "cells": [
  {
   "cell_type": "markdown",
   "id": "e1442a3b",
   "metadata": {},
   "source": [
    "## Bing Search with Langchain\n",
    "Set environment variables and run the cells below."
   ]
  },
  {
   "cell_type": "code",
   "execution_count": null,
   "id": "5a55506d",
   "metadata": {},
   "outputs": [],
   "source": [
    "!pip install openai\n",
    "!pip install langchain\n",
    "!pip install numexpr\n",
    "!pip install -U langchain_openai"
   ]
  },
  {
   "cell_type": "code",
   "execution_count": 1,
   "id": "b233f3b2",
   "metadata": {},
   "outputs": [
    {
     "name": "stdout",
     "output_type": "stream",
     "text": [
      "env: OPENAI_API_TYPE=azure\n",
      "env: OPENAI_API_VERSION=2022-12-01\n",
      "env: OPENAI_API_BASE=https://tecopenai.openai.azure.com/openai/deployments/text-davinci-003\n",
      "env: OPENAI_API_KEY=c52861e80f4241d69850e8b3190cdb74\n",
      "env: BING_SUBSCRIPTION_KEY=5e2bdfd1085243cfa7e1b992de0d41d6\n",
      "env: BING_SEARCH_URL=https://api.bing.microsoft.com/v7.0/search/\n"
     ]
    }
   ],
   "source": [
    "%env OPENAI_API_TYPE=azure\n",
    "%env OPENAI_API_VERSION=2022-12-01\n",
    "%env OPENAI_API_BASE=https://tecopenai.openai.azure.com/openai/deployments/text-davinci-003\n",
    "%env OPENAI_API_KEY=c52861e80f4241d69850e8b3190cdb74\n",
    "%env BING_SUBSCRIPTION_KEY=5e2bdfd1085243cfa7e1b992de0d41d6\n",
    "%env BING_SEARCH_URL=https://api.bing.microsoft.com/v7.0/search/"
   ]
  },
  {
   "cell_type": "code",
   "execution_count": 2,
   "id": "463da6a6",
   "metadata": {},
   "outputs": [],
   "source": [
    "from langchain.agents import load_tools\n",
    "from langchain.agents import initialize_agent\n",
    "from langchain_openai import AzureOpenAI\n",
    "\n",
    "# First, let's load the language model we're going to use to control the agent.\n",
    "azllm=AzureOpenAI(model_name=\"text-davinci-003\", temperature=0)\n",
    "\n",
    "# Next, let's load some tools to use. Note that the `llm-math` tool uses an LLM, so we need to pass that in.\n",
    "tools = load_tools([\"bing-search\", \"llm-math\"], llm=azllm)\n",
    "\n",
    "# Finally, let's initialize an agent with the tools, the language model, and the type of agent we want to use.\n",
    "agent = initialize_agent(tools, azllm, agent=\"zero-shot-react-description\", verbose=True)"
   ]
  },
  {
   "cell_type": "code",
   "execution_count": 5,
   "id": "f0b7c13e",
   "metadata": {},
   "outputs": [
    {
     "name": "stdout",
     "output_type": "stream",
     "text": [
      "\n",
      "\n",
      "\u001b[1m> Entering new AgentExecutor chain...\u001b[0m\n",
      "\u001b[32;1m\u001b[1;3m I need to find out who Leo DiCaprio's girlfriend is and then calculate her age raised to the 0.43 power.\n",
      "Action: Bing Search\n",
      "Action Input: \"Leo DiCaprio girlfriend\"\u001b[0m\n",
      "Observation: \u001b[36;1m\u001b[1;3mThey were first spotted together in 2017 and little has come to be known about their romance, other than <b>DiCaprio</b>&#39;s uncanny ability to turn into a viral meme and their eyebrow-raising age gap... <b>Leonardo</b> <b>DiCaprio</b> started dating hot 25 year olds back in the roaring &#39;90s and...truly nothing has changed! Other than the people he&#39;s dating, of course, because lord knows this man won&#39;t stay... <b>Leonardo</b> <b>DiCaprio</b> recently split with his <b>girlfriend</b> of several years, Camila Morrone. In the past, the &quot;Titanic&quot; actor has been romantically linked to Gisele Bündchen, Rihanna, and more. <b>DiCaprio</b>&#39;s tendency to date much younger women has spawned countless memes and jokes online. <b>Leonardo</b> <b>DiCaprio</b> and Gigi Hadid were first linked in September 2022 and have been spotted together on-and-off since then. Here&#39;s everything to know about their relationship. Documented most succinctly in this now infamous chart, all of his high-profile relationships have been with women under the age of 25. His last relationship, with actor and model Camila Morrone ... By Christi Carras Staff Writer. Aug. 31, 2022 11:52 AM PT. In an uncanny case of life imitating memes, <b>Leonardo</b> <b>DiCaprio</b> and Camila Morrone have reportedly split less than three months after the ... <b>Leonardo</b> <b>DiCaprio</b> Has Reportedly Moved on From Gigi Hadid to Her 22-Year-Old Model Friend Delilah Gray June 5, 2023 at 11:46 AM · 2 min read Once again, <b>Leonardo</b> <b>DiCaprio</b>’s dating life... <b>Leonardo</b> <b>DiCaprio</b> ’s love life is under scrutiny once again as rumours that he was dating 19-year-old model Eden Polani began circulating last week. The Don’t Look Up star, 48, has faced ... Leonardo DiCaprio seemed to prove a long-held theory about his love life right after splitting from girlfriend Camila Morrone just months after her 25th birthday. The pair called it quits after five years of dating, with The Sun reporting that they simply grew apart over time. “<b>Leonardo</b> <b>DiCaprio</b>’s <b>girlfriend</b> is so young her high school experience was interrupted by COVID-19,” slammed one user Monday. “There’s a dog now who’s older than <b>Leonardo</b> <b>DiCaprio</b>’s...\u001b[0m\n",
      "Thought:\u001b[32;1m\u001b[1;3m I now need to calculate the age of DiCaprio's girlfriend raised to the 0.43 power.\n",
      "Action: Calculator\n",
      "Action Input: 25^0.43\u001b[0m\n",
      "Observation: \u001b[33;1m\u001b[1;3mAnswer: 3.991298452658078\u001b[0m\n",
      "Thought:\u001b[32;1m\u001b[1;3m I now know the final answer\n",
      "Final Answer: The age of Leonardo DiCaprio's girlfriend raised to the 0.43 power is 3.991298452658078.\u001b[0m\n",
      "\n",
      "\u001b[1m> Finished chain.\u001b[0m\n"
     ]
    },
    {
     "data": {
      "text/plain": [
       "\"The age of Leonardo DiCaprio's girlfriend raised to the 0.43 power is 3.991298452658078.\""
      ]
     },
     "execution_count": 5,
     "metadata": {},
     "output_type": "execute_result"
    }
   ],
   "source": [
    "agent.invoke(\"Who is Leo DiCaprio's girlfriend? What is her current age raised to the 0.43 power?\")"
   ]
  },
  {
   "cell_type": "code",
   "execution_count": null,
   "id": "a294a975",
   "metadata": {},
   "outputs": [],
   "source": []
  }
 ],
 "metadata": {
  "kernelspec": {
   "display_name": "Python 3 (ipykernel)",
   "language": "python",
   "name": "python3"
  },
  "language_info": {
   "codemirror_mode": {
    "name": "ipython",
    "version": 3
   },
   "file_extension": ".py",
   "mimetype": "text/x-python",
   "name": "python",
   "nbconvert_exporter": "python",
   "pygments_lexer": "ipython3",
   "version": "3.9.13"
  }
 },
 "nbformat": 4,
 "nbformat_minor": 5
}
